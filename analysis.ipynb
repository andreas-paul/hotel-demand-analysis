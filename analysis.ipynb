{
 "cells": [
  {
   "cell_type": "markdown",
   "id": "54fe0fe0-dc6c-4153-a23c-d26df151c693",
   "metadata": {},
   "source": [
    "# Hotel Booking Demand Analysis & Cancelation prediction"
   ]
  },
  {
   "cell_type": "markdown",
   "id": "1bd1ab96-5a30-4eef-b5fe-66593d9b5889",
   "metadata": {},
   "source": [
    "* [Chapter 1](#chapter1)\n",
    "    * [Section 1.1](#section-1-a)\n",
    "    * [Section 2.1](#section-2-1)"
   ]
  },
  {
   "cell_type": "markdown",
   "id": "6193df6a-4ec6-40ce-8925-4fb8e6990f0c",
   "metadata": {
    "tags": []
   },
   "source": [
    "## 1) Introduction"
   ]
  },
  {
   "cell_type": "markdown",
   "id": "7457115f-39d7-4213-98e3-49b9860e7cb0",
   "metadata": {
    "tags": []
   },
   "source": []
  },
  {
   "cell_type": "markdown",
   "id": "c17bf452-a82d-449f-b5f1-0bfed81cba4a",
   "metadata": {
    "tags": []
   },
   "source": [
    "### Aims <a class=\"anchor\" id=\"section-1-a\"></a>"
   ]
  },
  {
   "cell_type": "markdown",
   "id": "97c2933f-9a19-4bdf-85fb-509e35a00136",
   "metadata": {
    "tags": []
   },
   "source": [
    "_\"Hotels currently don’t know about the guests' preferences, booking / cancelation patterns, deeper\n",
    "insights etc.\"_\n",
    "\n",
    "_\"It would be nicer for the hotels to have a model to predict if a guest will come.\"_\n",
    "\n",
    "- Describe data using descriptive statistics\n",
    "- Conceptualise and describe use cases from perspective of hotel owner\n",
    "- Suggest use cases from perspective of hotel guests\n",
    "- __Analytics models to be developed__:\n",
    "    - Unsupervised model - to provide hidden insights \n",
    "    - Classification model - to predict cancellation of bookings\n",
    "    - Regression model - to predict number of booking nights for any new booking"
   ]
  },
  {
   "cell_type": "markdown",
   "id": "9ddbdc71-11e9-4f8d-9114-5f6c0386c16f",
   "metadata": {},
   "source": [
    "### Questions and Hypotheses"
   ]
  },
  {
   "cell_type": "markdown",
   "id": "dc45274a-2e4f-4dcd-9122-049659d9060e",
   "metadata": {
    "tags": []
   },
   "source": [
    "- Given in powerpoint presentation: \n",
    "    - Best time of year to book a room?\n",
    "    - Optimal length of stay for the best daily rate?\n",
    "    - Whether or not a hotel is likely to receive a disproportionately high number of special requests\n",
    "    - The probability of a booking getting cancelled\n",
    "- Additional:\n",
    "    - Is there a season guests prefer to book at hotel room for? \n",
    "    - On which factors does the preference for type of hotel depend?\n",
    "    - Which type of hotel is a family likely to book, plus what length of stay, and through which distribution channels? "
   ]
  },
  {
   "cell_type": "markdown",
   "id": "f11fde53-1606-43aa-9067-56f5b321e93e",
   "metadata": {},
   "source": [
    "### Tools & Technologies"
   ]
  },
  {
   "cell_type": "markdown",
   "id": "3c769d84-8cc0-4b29-ab13-4d536e9aaa67",
   "metadata": {
    "tags": []
   },
   "source": [
    "- Python & Jupyter for analytics and visualisations\n",
    "- Markdown format for documentation (Readme.md)\n",
    "- Code base (this folder; final report and analysis in Jupyter notebook)"
   ]
  },
  {
   "cell_type": "markdown",
   "id": "f2169168-6dcb-43bd-b59a-ab7d9c5eb45b",
   "metadata": {},
   "source": [
    "### Dataset description"
   ]
  },
  {
   "cell_type": "markdown",
   "id": "fba42c92-bc3b-4e22-8ee1-e6ee0bf7ddf1",
   "metadata": {
    "tags": []
   },
   "source": []
  },
  {
   "cell_type": "markdown",
   "id": "e63bf448-7528-4702-b699-ce60a081c26f",
   "metadata": {
    "tags": []
   },
   "source": [
    "## 2) Python Libraries"
   ]
  },
  {
   "cell_type": "markdown",
   "id": "64121385-3692-4d03-b0bc-efc515e1bf81",
   "metadata": {},
   "source": [
    "__Requires Python >=3.8__ to be installed, ideally in a virtual environment created with venv or pyenv-virtualenv."
   ]
  },
  {
   "cell_type": "code",
   "execution_count": 327,
   "id": "dcd21154-5a9c-475b-83b4-786583e335a7",
   "metadata": {},
   "outputs": [],
   "source": [
    "# !pip install -r requirements.txt"
   ]
  },
  {
   "cell_type": "code",
   "execution_count": 328,
   "id": "e0bbd6d1-0c83-42b2-aef0-73c42113fd9f",
   "metadata": {},
   "outputs": [],
   "source": [
    "import calendar\n",
    "import datetime\n",
    "import numpy as np\n",
    "import pandas as pd\n",
    "import seaborn as sns\n",
    "import matplotlib\n",
    "import matplotlib.pyplot as plt\n",
    "\n",
    "pd.set_option('display.max_columns', None)\n",
    "pd.set_option('display.max_rows', None)\n",
    "\n",
    "sns.set(style=\"ticks\", font_scale=0.8)\n"
   ]
  },
  {
   "cell_type": "markdown",
   "id": "e048d5ae-b33b-4e2a-a471-969b4c21483f",
   "metadata": {},
   "source": [
    "## 3) Data Preparation <a class=\"anchor\" id=\"section-2-1\"></a>"
   ]
  },
  {
   "cell_type": "code",
   "execution_count": 329,
   "id": "58b8b37d-79a4-488f-85a1-32c72ba8e256",
   "metadata": {},
   "outputs": [],
   "source": [
    "# https://www.kaggle.com/datasets/jessemostipak/hotel-booking-demand"
   ]
  },
  {
   "cell_type": "code",
   "execution_count": 330,
   "id": "90d458ca-cdd9-4f1f-a920-d5297118eaa9",
   "metadata": {},
   "outputs": [],
   "source": [
    "df = pd.read_csv('hotel_bookings.csv')"
   ]
  },
  {
   "cell_type": "markdown",
   "id": "8f6ea6e7-317f-4ee9-8b95-25bee1beaf89",
   "metadata": {},
   "source": [
    "### Dataset overview"
   ]
  },
  {
   "cell_type": "code",
   "execution_count": 331,
   "id": "dca1114e-638c-47be-8409-204d97eeec03",
   "metadata": {
    "tags": []
   },
   "outputs": [
    {
     "name": "stdout",
     "output_type": "stream",
     "text": [
      "<class 'pandas.core.frame.DataFrame'>\n",
      "RangeIndex: 119390 entries, 0 to 119389\n",
      "Data columns (total 32 columns):\n",
      " #   Column                          Non-Null Count   Dtype  \n",
      "---  ------                          --------------   -----  \n",
      " 0   hotel                           119390 non-null  object \n",
      " 1   is_canceled                     119390 non-null  int64  \n",
      " 2   lead_time                       119390 non-null  int64  \n",
      " 3   arrival_date_year               119390 non-null  int64  \n",
      " 4   arrival_date_month              119390 non-null  object \n",
      " 5   arrival_date_week_number        119390 non-null  int64  \n",
      " 6   arrival_date_day_of_month       119390 non-null  int64  \n",
      " 7   stays_in_weekend_nights         119390 non-null  int64  \n",
      " 8   stays_in_week_nights            119390 non-null  int64  \n",
      " 9   adults                          119390 non-null  int64  \n",
      " 10  children                        119386 non-null  float64\n",
      " 11  babies                          119390 non-null  int64  \n",
      " 12  meal                            119390 non-null  object \n",
      " 13  country                         118902 non-null  object \n",
      " 14  market_segment                  119390 non-null  object \n",
      " 15  distribution_channel            119390 non-null  object \n",
      " 16  is_repeated_guest               119390 non-null  int64  \n",
      " 17  previous_cancellations          119390 non-null  int64  \n",
      " 18  previous_bookings_not_canceled  119390 non-null  int64  \n",
      " 19  reserved_room_type              119390 non-null  object \n",
      " 20  assigned_room_type              119390 non-null  object \n",
      " 21  booking_changes                 119390 non-null  int64  \n",
      " 22  deposit_type                    119390 non-null  object \n",
      " 23  agent                           103050 non-null  float64\n",
      " 24  company                         6797 non-null    float64\n",
      " 25  days_in_waiting_list            119390 non-null  int64  \n",
      " 26  customer_type                   119390 non-null  object \n",
      " 27  adr                             119390 non-null  float64\n",
      " 28  required_car_parking_spaces     119390 non-null  int64  \n",
      " 29  total_of_special_requests       119390 non-null  int64  \n",
      " 30  reservation_status              119390 non-null  object \n",
      " 31  reservation_status_date         119390 non-null  object \n",
      "dtypes: float64(4), int64(16), object(12)\n",
      "memory usage: 29.1+ MB\n"
     ]
    }
   ],
   "source": [
    "df.info()"
   ]
  },
  {
   "cell_type": "markdown",
   "id": "52536aaf-370e-426b-bf2b-3ebf1e41ed1f",
   "metadata": {},
   "source": [
    "__The original dataset contains 32 variables, 20 of which can be considered categorical, five are dates or date-like objects, and seven can be considered continuous (shown below):__\n",
    "\n",
    "- _adr_\n",
    "- _lead_time_\n",
    "- _days_in_waiting_list_\n",
    "- _previous_cancellations_\n",
    "- _stays_in_weekend_nights_\n",
    "- _stays_in_week_nights_\n",
    "- _previous_bookings_not_canceled_\n",
    "\n",
    "__There are a total of _119,390_ records.__"
   ]
  },
  {
   "cell_type": "markdown",
   "id": "f8cbb01e-43a4-4745-b909-55a4b76d9610",
   "metadata": {},
   "source": [
    "### Dataset sample"
   ]
  },
  {
   "cell_type": "code",
   "execution_count": 332,
   "id": "72f06b55-e79f-434f-af54-c89ce3e7779b",
   "metadata": {
    "tags": []
   },
   "outputs": [
    {
     "data": {
      "text/html": [
       "<div>\n",
       "<style scoped>\n",
       "    .dataframe tbody tr th:only-of-type {\n",
       "        vertical-align: middle;\n",
       "    }\n",
       "\n",
       "    .dataframe tbody tr th {\n",
       "        vertical-align: top;\n",
       "    }\n",
       "\n",
       "    .dataframe thead th {\n",
       "        text-align: right;\n",
       "    }\n",
       "</style>\n",
       "<table border=\"1\" class=\"dataframe\">\n",
       "  <thead>\n",
       "    <tr style=\"text-align: right;\">\n",
       "      <th></th>\n",
       "      <th>hotel</th>\n",
       "      <th>is_canceled</th>\n",
       "      <th>lead_time</th>\n",
       "      <th>arrival_date_year</th>\n",
       "      <th>arrival_date_month</th>\n",
       "      <th>arrival_date_week_number</th>\n",
       "      <th>arrival_date_day_of_month</th>\n",
       "      <th>stays_in_weekend_nights</th>\n",
       "      <th>stays_in_week_nights</th>\n",
       "      <th>adults</th>\n",
       "      <th>children</th>\n",
       "      <th>babies</th>\n",
       "      <th>meal</th>\n",
       "      <th>country</th>\n",
       "      <th>market_segment</th>\n",
       "      <th>distribution_channel</th>\n",
       "      <th>is_repeated_guest</th>\n",
       "      <th>previous_cancellations</th>\n",
       "      <th>previous_bookings_not_canceled</th>\n",
       "      <th>reserved_room_type</th>\n",
       "      <th>assigned_room_type</th>\n",
       "      <th>booking_changes</th>\n",
       "      <th>deposit_type</th>\n",
       "      <th>agent</th>\n",
       "      <th>company</th>\n",
       "      <th>days_in_waiting_list</th>\n",
       "      <th>customer_type</th>\n",
       "      <th>adr</th>\n",
       "      <th>required_car_parking_spaces</th>\n",
       "      <th>total_of_special_requests</th>\n",
       "      <th>reservation_status</th>\n",
       "      <th>reservation_status_date</th>\n",
       "    </tr>\n",
       "  </thead>\n",
       "  <tbody>\n",
       "    <tr>\n",
       "      <th>28722</th>\n",
       "      <td>Resort Hotel</td>\n",
       "      <td>0</td>\n",
       "      <td>223</td>\n",
       "      <td>2016</td>\n",
       "      <td>October</td>\n",
       "      <td>42</td>\n",
       "      <td>9</td>\n",
       "      <td>1</td>\n",
       "      <td>0</td>\n",
       "      <td>2</td>\n",
       "      <td>0.0</td>\n",
       "      <td>0</td>\n",
       "      <td>BB</td>\n",
       "      <td>DEU</td>\n",
       "      <td>Offline TA/TO</td>\n",
       "      <td>TA/TO</td>\n",
       "      <td>0</td>\n",
       "      <td>0</td>\n",
       "      <td>0</td>\n",
       "      <td>D</td>\n",
       "      <td>E</td>\n",
       "      <td>0</td>\n",
       "      <td>No Deposit</td>\n",
       "      <td>251.0</td>\n",
       "      <td>NaN</td>\n",
       "      <td>0</td>\n",
       "      <td>Transient-Party</td>\n",
       "      <td>59.00</td>\n",
       "      <td>0</td>\n",
       "      <td>1</td>\n",
       "      <td>Check-Out</td>\n",
       "      <td>2016-10-10</td>\n",
       "    </tr>\n",
       "    <tr>\n",
       "      <th>14975</th>\n",
       "      <td>Resort Hotel</td>\n",
       "      <td>1</td>\n",
       "      <td>166</td>\n",
       "      <td>2015</td>\n",
       "      <td>July</td>\n",
       "      <td>29</td>\n",
       "      <td>15</td>\n",
       "      <td>0</td>\n",
       "      <td>2</td>\n",
       "      <td>2</td>\n",
       "      <td>0.0</td>\n",
       "      <td>0</td>\n",
       "      <td>FB</td>\n",
       "      <td>PRT</td>\n",
       "      <td>Groups</td>\n",
       "      <td>TA/TO</td>\n",
       "      <td>0</td>\n",
       "      <td>24</td>\n",
       "      <td>0</td>\n",
       "      <td>A</td>\n",
       "      <td>A</td>\n",
       "      <td>0</td>\n",
       "      <td>Non Refund</td>\n",
       "      <td>NaN</td>\n",
       "      <td>NaN</td>\n",
       "      <td>0</td>\n",
       "      <td>Transient</td>\n",
       "      <td>121.50</td>\n",
       "      <td>0</td>\n",
       "      <td>0</td>\n",
       "      <td>Canceled</td>\n",
       "      <td>2015-04-28</td>\n",
       "    </tr>\n",
       "    <tr>\n",
       "      <th>60139</th>\n",
       "      <td>City Hotel</td>\n",
       "      <td>1</td>\n",
       "      <td>157</td>\n",
       "      <td>2016</td>\n",
       "      <td>November</td>\n",
       "      <td>46</td>\n",
       "      <td>6</td>\n",
       "      <td>2</td>\n",
       "      <td>2</td>\n",
       "      <td>1</td>\n",
       "      <td>0.0</td>\n",
       "      <td>0</td>\n",
       "      <td>BB</td>\n",
       "      <td>PRT</td>\n",
       "      <td>Online TA</td>\n",
       "      <td>TA/TO</td>\n",
       "      <td>0</td>\n",
       "      <td>0</td>\n",
       "      <td>0</td>\n",
       "      <td>A</td>\n",
       "      <td>A</td>\n",
       "      <td>0</td>\n",
       "      <td>No Deposit</td>\n",
       "      <td>7.0</td>\n",
       "      <td>NaN</td>\n",
       "      <td>0</td>\n",
       "      <td>Transient</td>\n",
       "      <td>117.68</td>\n",
       "      <td>0</td>\n",
       "      <td>1</td>\n",
       "      <td>Canceled</td>\n",
       "      <td>2016-11-02</td>\n",
       "    </tr>\n",
       "  </tbody>\n",
       "</table>\n",
       "</div>"
      ],
      "text/plain": [
       "              hotel  is_canceled  lead_time  arrival_date_year  \\\n",
       "28722  Resort Hotel            0        223               2016   \n",
       "14975  Resort Hotel            1        166               2015   \n",
       "60139    City Hotel            1        157               2016   \n",
       "\n",
       "      arrival_date_month  arrival_date_week_number  arrival_date_day_of_month  \\\n",
       "28722            October                        42                          9   \n",
       "14975               July                        29                         15   \n",
       "60139           November                        46                          6   \n",
       "\n",
       "       stays_in_weekend_nights  stays_in_week_nights  adults  children  \\\n",
       "28722                        1                     0       2       0.0   \n",
       "14975                        0                     2       2       0.0   \n",
       "60139                        2                     2       1       0.0   \n",
       "\n",
       "       babies meal country market_segment distribution_channel  \\\n",
       "28722       0   BB     DEU  Offline TA/TO                TA/TO   \n",
       "14975       0   FB     PRT         Groups                TA/TO   \n",
       "60139       0   BB     PRT      Online TA                TA/TO   \n",
       "\n",
       "       is_repeated_guest  previous_cancellations  \\\n",
       "28722                  0                       0   \n",
       "14975                  0                      24   \n",
       "60139                  0                       0   \n",
       "\n",
       "       previous_bookings_not_canceled reserved_room_type assigned_room_type  \\\n",
       "28722                               0                  D                  E   \n",
       "14975                               0                  A                  A   \n",
       "60139                               0                  A                  A   \n",
       "\n",
       "       booking_changes deposit_type  agent  company  days_in_waiting_list  \\\n",
       "28722                0   No Deposit  251.0      NaN                     0   \n",
       "14975                0   Non Refund    NaN      NaN                     0   \n",
       "60139                0   No Deposit    7.0      NaN                     0   \n",
       "\n",
       "         customer_type     adr  required_car_parking_spaces  \\\n",
       "28722  Transient-Party   59.00                            0   \n",
       "14975        Transient  121.50                            0   \n",
       "60139        Transient  117.68                            0   \n",
       "\n",
       "       total_of_special_requests reservation_status reservation_status_date  \n",
       "28722                          1          Check-Out              2016-10-10  \n",
       "14975                          0           Canceled              2015-04-28  \n",
       "60139                          1           Canceled              2016-11-02  "
      ]
     },
     "execution_count": 332,
     "metadata": {},
     "output_type": "execute_result"
    }
   ],
   "source": [
    "df.sample(3)"
   ]
  },
  {
   "cell_type": "markdown",
   "id": "4bd7cc0c-3279-4034-81e8-44881ee324f6",
   "metadata": {},
   "source": [
    "### Identifying missing values"
   ]
  },
  {
   "cell_type": "code",
   "execution_count": 333,
   "id": "18f89c56-5e03-4988-9dac-a5b9b6bae80a",
   "metadata": {
    "tags": []
   },
   "outputs": [
    {
     "data": {
      "text/plain": [
       "company     112593\n",
       "agent        16340\n",
       "country        488\n",
       "children         4\n",
       "dtype: int64"
      ]
     },
     "execution_count": 333,
     "metadata": {},
     "output_type": "execute_result"
    }
   ],
   "source": [
    "df.isnull().sum().sort_values(ascending=False)[:4]  # Remove square brackets at end to show data for all columns"
   ]
  },
  {
   "cell_type": "markdown",
   "id": "2b186a7f-8e7d-4114-9131-7993fe522b97",
   "metadata": {},
   "source": [
    "__Four columns contain one or more records with null/NA/nan values: _company_, _agent_, _country_, _children_. These need to be cleaned, transformed, and/or removed.__"
   ]
  },
  {
   "cell_type": "markdown",
   "id": "d1796f0b-82f3-490a-8c31-0e46097d037a",
   "metadata": {},
   "source": [
    "### Identifying negative values in numeric columns"
   ]
  },
  {
   "cell_type": "code",
   "execution_count": 334,
   "id": "70f99c5a-5899-47cc-bf00-a6103c0c2a3c",
   "metadata": {},
   "outputs": [
    {
     "data": {
      "text/plain": [
       "['adr']"
      ]
     },
     "execution_count": 334,
     "metadata": {},
     "output_type": "execute_result"
    }
   ],
   "source": [
    "contains_negative = []\n",
    "from pandas.api.types import is_numeric_dtype\n",
    "for var in df:\n",
    "    if is_numeric_dtype(df[var]):       \n",
    "        if (df[var].values < 0).any():\n",
    "            contains_negative.append(var)\n",
    "contains_negative"
   ]
  },
  {
   "cell_type": "markdown",
   "id": "3ce622bb-cc91-4fcb-8e4b-9a57731d8892",
   "metadata": {},
   "source": [
    "__Of all numeric columns, only '_adr_' (average daily rate) contains negative values.__"
   ]
  },
  {
   "cell_type": "code",
   "execution_count": 335,
   "id": "f5b9272e-0e7d-488f-84be-f609375b40c9",
   "metadata": {},
   "outputs": [
    {
     "data": {
      "text/html": [
       "<div>\n",
       "<style scoped>\n",
       "    .dataframe tbody tr th:only-of-type {\n",
       "        vertical-align: middle;\n",
       "    }\n",
       "\n",
       "    .dataframe tbody tr th {\n",
       "        vertical-align: top;\n",
       "    }\n",
       "\n",
       "    .dataframe thead th {\n",
       "        text-align: right;\n",
       "    }\n",
       "</style>\n",
       "<table border=\"1\" class=\"dataframe\">\n",
       "  <thead>\n",
       "    <tr style=\"text-align: right;\">\n",
       "      <th></th>\n",
       "      <th>hotel</th>\n",
       "      <th>is_canceled</th>\n",
       "      <th>lead_time</th>\n",
       "      <th>arrival_date_year</th>\n",
       "      <th>arrival_date_month</th>\n",
       "      <th>arrival_date_week_number</th>\n",
       "      <th>arrival_date_day_of_month</th>\n",
       "      <th>stays_in_weekend_nights</th>\n",
       "      <th>stays_in_week_nights</th>\n",
       "      <th>adults</th>\n",
       "      <th>children</th>\n",
       "      <th>babies</th>\n",
       "      <th>meal</th>\n",
       "      <th>country</th>\n",
       "      <th>market_segment</th>\n",
       "      <th>distribution_channel</th>\n",
       "      <th>is_repeated_guest</th>\n",
       "      <th>previous_cancellations</th>\n",
       "      <th>previous_bookings_not_canceled</th>\n",
       "      <th>reserved_room_type</th>\n",
       "      <th>assigned_room_type</th>\n",
       "      <th>booking_changes</th>\n",
       "      <th>deposit_type</th>\n",
       "      <th>agent</th>\n",
       "      <th>company</th>\n",
       "      <th>days_in_waiting_list</th>\n",
       "      <th>customer_type</th>\n",
       "      <th>adr</th>\n",
       "      <th>required_car_parking_spaces</th>\n",
       "      <th>total_of_special_requests</th>\n",
       "      <th>reservation_status</th>\n",
       "      <th>reservation_status_date</th>\n",
       "    </tr>\n",
       "  </thead>\n",
       "  <tbody>\n",
       "    <tr>\n",
       "      <th>14969</th>\n",
       "      <td>Resort Hotel</td>\n",
       "      <td>0</td>\n",
       "      <td>195</td>\n",
       "      <td>2017</td>\n",
       "      <td>March</td>\n",
       "      <td>10</td>\n",
       "      <td>5</td>\n",
       "      <td>4</td>\n",
       "      <td>6</td>\n",
       "      <td>2</td>\n",
       "      <td>0.0</td>\n",
       "      <td>0</td>\n",
       "      <td>BB</td>\n",
       "      <td>GBR</td>\n",
       "      <td>Groups</td>\n",
       "      <td>Direct</td>\n",
       "      <td>1</td>\n",
       "      <td>0</td>\n",
       "      <td>2</td>\n",
       "      <td>A</td>\n",
       "      <td>H</td>\n",
       "      <td>2</td>\n",
       "      <td>No Deposit</td>\n",
       "      <td>273.0</td>\n",
       "      <td>NaN</td>\n",
       "      <td>0</td>\n",
       "      <td>Transient-Party</td>\n",
       "      <td>-6.38</td>\n",
       "      <td>0</td>\n",
       "      <td>0</td>\n",
       "      <td>Check-Out</td>\n",
       "      <td>2017-03-15</td>\n",
       "    </tr>\n",
       "  </tbody>\n",
       "</table>\n",
       "</div>"
      ],
      "text/plain": [
       "              hotel  is_canceled  lead_time  arrival_date_year  \\\n",
       "14969  Resort Hotel            0        195               2017   \n",
       "\n",
       "      arrival_date_month  arrival_date_week_number  arrival_date_day_of_month  \\\n",
       "14969              March                        10                          5   \n",
       "\n",
       "       stays_in_weekend_nights  stays_in_week_nights  adults  children  \\\n",
       "14969                        4                     6       2       0.0   \n",
       "\n",
       "       babies meal country market_segment distribution_channel  \\\n",
       "14969       0   BB     GBR         Groups               Direct   \n",
       "\n",
       "       is_repeated_guest  previous_cancellations  \\\n",
       "14969                  1                       0   \n",
       "\n",
       "       previous_bookings_not_canceled reserved_room_type assigned_room_type  \\\n",
       "14969                               2                  A                  H   \n",
       "\n",
       "       booking_changes deposit_type  agent  company  days_in_waiting_list  \\\n",
       "14969                2   No Deposit  273.0      NaN                     0   \n",
       "\n",
       "         customer_type   adr  required_car_parking_spaces  \\\n",
       "14969  Transient-Party -6.38                            0   \n",
       "\n",
       "       total_of_special_requests reservation_status reservation_status_date  \n",
       "14969                          0          Check-Out              2017-03-15  "
      ]
     },
     "execution_count": 335,
     "metadata": {},
     "output_type": "execute_result"
    }
   ],
   "source": [
    "df[df['adr'] < 0]"
   ]
  },
  {
   "cell_type": "markdown",
   "id": "f0cba944-6850-4a9d-b89e-7b6142a0538e",
   "metadata": {},
   "source": [
    "__As only one record in the '_adr_' variable is negative, and since it is unlikely this var should be negative, and since this variable is considered important, it is permissable to drop this record from the dataset for now, as it is likely an error.__ "
   ]
  },
  {
   "cell_type": "code",
   "execution_count": 336,
   "id": "bd7fdf28-d4fe-4ef3-8abe-6250e8e14999",
   "metadata": {},
   "outputs": [],
   "source": [
    "df.drop(14969, inplace=True)"
   ]
  },
  {
   "cell_type": "markdown",
   "id": "be21003e-f229-4a28-a6ad-ea630f2c6d6e",
   "metadata": {},
   "source": [
    "## 4) Univariate Analysis"
   ]
  },
  {
   "cell_type": "markdown",
   "id": "6904a9d0-c7fb-4743-9a68-3fd4e4a1bdd7",
   "metadata": {},
   "source": [
    "Boxplots of all continous variables will be created next. These visualise the characteristic of each distribution, with particular focus on outliers and extreme values.\n",
    "\n",
    "The '_adr_' variable contains one extreme outlier with a value of 5,400. It is unlikely the daily rate could be this exessive, and this record will be removed from the dataset. The remaining continous variables contain some outliers/extreme values, but these can be considered 'expected' under some circumstances (e.g. public holidays). After the extreme outlier was removed, the distribution of the variable is improved, although some outliers are still present in the interval larger than 400. Since these could be related to various factors such as holiday pricing, last minute, or large groups, these will be left in for now."
   ]
  },
  {
   "cell_type": "code",
   "execution_count": 337,
   "id": "9e319313-2e07-415e-83a5-41f7e2bfd347",
   "metadata": {},
   "outputs": [],
   "source": [
    "def boxplot(df, var, ax, axis_r=-1, axis_c=-1, log=False):\n",
    "    \"\"\"Create a boxplot visualisation with seaborn.    \n",
    "    \"\"\"\n",
    "    if axis_r >= 0 and axis_c >= 0: \n",
    "        coords = (axis_r, axis_c)  \n",
    "    elif axis_r >= 0 and axis_c == -1:\n",
    "        coords = axis_r        \n",
    "    if log:\n",
    "        ax[coords].set_xscale(\"log\")           \n",
    "    ax[coords].grid(True)    \n",
    "    sns.boxplot(ax=ax[coords], x=df[var], data=df, width=.6, palette=\"vlag\")\n",
    "    sns.stripplot(ax=ax[coords], x=df[var], data=df, size=1, color=\"0.9\", linewidth=0, alpha=0.05)\n",
    "    ax[coords].set(ylabel=\"\")\n",
    "    ax[coords].set(xlabel=f\"Variable: {var}\")\n",
    "    ax[coords].xaxis.set_ticks_position('bottom')\n",
    "    ax[coords].xaxis.set_label_position('top')"
   ]
  },
  {
   "cell_type": "code",
   "execution_count": 338,
   "id": "d23be760-768a-42dc-bfa2-dbd36b87e0c4",
   "metadata": {},
   "outputs": [
    {
     "data": {
      "image/png": "[encoded data removed]",
      "text/plain": [
       "<Figure size 1400x500 with 8 Axes>"
      ]
     },
     "metadata": {},
     "output_type": "display_data"
    }
   ],
   "source": [
    "fig, ax = plt.subplots(2, 4, figsize=(14, 5), sharey=True)\n",
    "fig.suptitle(\"Distributions of various continous variables\")\n",
    "boxplot(df, 'adr', ax, axis_r=0, axis_c=0, log=False)\n",
    "boxplot(df, 'lead_time', ax, 0, 1)\n",
    "boxplot(df, 'days_in_waiting_list', ax, 0, 2)\n",
    "boxplot(df, 'previous_cancellations', ax, 0, 3)\n",
    "boxplot(df, 'stays_in_weekend_nights', ax, 1, 0)\n",
    "boxplot(df, 'stays_in_week_nights', ax, 1, 1)\n",
    "boxplot(df, 'previous_bookings_not_canceled', ax, 1, 2)\n",
    "ax[1,3].set_axis_off()\n",
    "plt.tight_layout()"
   ]
  },
  {
   "cell_type": "code",
   "execution_count": 339,
   "id": "7555f549-8617-4ba2-bfa4-baff91ffd12f",
   "metadata": {},
   "outputs": [
    {
     "data": {
      "text/html": [
       "<div>\n",
       "<style scoped>\n",
       "    .dataframe tbody tr th:only-of-type {\n",
       "        vertical-align: middle;\n",
       "    }\n",
       "\n",
       "    .dataframe tbody tr th {\n",
       "        vertical-align: top;\n",
       "    }\n",
       "\n",
       "    .dataframe thead th {\n",
       "        text-align: right;\n",
       "    }\n",
       "</style>\n",
       "<table border=\"1\" class=\"dataframe\">\n",
       "  <thead>\n",
       "    <tr style=\"text-align: right;\">\n",
       "      <th></th>\n",
       "      <th>hotel</th>\n",
       "      <th>is_canceled</th>\n",
       "      <th>lead_time</th>\n",
       "      <th>arrival_date_year</th>\n",
       "      <th>arrival_date_month</th>\n",
       "      <th>arrival_date_week_number</th>\n",
       "      <th>arrival_date_day_of_month</th>\n",
       "      <th>stays_in_weekend_nights</th>\n",
       "      <th>stays_in_week_nights</th>\n",
       "      <th>adults</th>\n",
       "      <th>children</th>\n",
       "      <th>babies</th>\n",
       "      <th>meal</th>\n",
       "      <th>country</th>\n",
       "      <th>market_segment</th>\n",
       "      <th>distribution_channel</th>\n",
       "      <th>is_repeated_guest</th>\n",
       "      <th>previous_cancellations</th>\n",
       "      <th>previous_bookings_not_canceled</th>\n",
       "      <th>reserved_room_type</th>\n",
       "      <th>assigned_room_type</th>\n",
       "      <th>booking_changes</th>\n",
       "      <th>deposit_type</th>\n",
       "      <th>agent</th>\n",
       "      <th>company</th>\n",
       "      <th>days_in_waiting_list</th>\n",
       "      <th>customer_type</th>\n",
       "      <th>adr</th>\n",
       "      <th>required_car_parking_spaces</th>\n",
       "      <th>total_of_special_requests</th>\n",
       "      <th>reservation_status</th>\n",
       "      <th>reservation_status_date</th>\n",
       "    </tr>\n",
       "  </thead>\n",
       "  <tbody>\n",
       "    <tr>\n",
       "      <th>48515</th>\n",
       "      <td>City Hotel</td>\n",
       "      <td>1</td>\n",
       "      <td>35</td>\n",
       "      <td>2016</td>\n",
       "      <td>March</td>\n",
       "      <td>13</td>\n",
       "      <td>25</td>\n",
       "      <td>0</td>\n",
       "      <td>1</td>\n",
       "      <td>2</td>\n",
       "      <td>0.0</td>\n",
       "      <td>0</td>\n",
       "      <td>BB</td>\n",
       "      <td>PRT</td>\n",
       "      <td>Offline TA/TO</td>\n",
       "      <td>TA/TO</td>\n",
       "      <td>0</td>\n",
       "      <td>0</td>\n",
       "      <td>0</td>\n",
       "      <td>A</td>\n",
       "      <td>A</td>\n",
       "      <td>1</td>\n",
       "      <td>Non Refund</td>\n",
       "      <td>12.0</td>\n",
       "      <td>NaN</td>\n",
       "      <td>0</td>\n",
       "      <td>Transient</td>\n",
       "      <td>5400.0</td>\n",
       "      <td>0</td>\n",
       "      <td>0</td>\n",
       "      <td>Canceled</td>\n",
       "      <td>2016-02-19</td>\n",
       "    </tr>\n",
       "  </tbody>\n",
       "</table>\n",
       "</div>"
      ],
      "text/plain": [
       "            hotel  is_canceled  lead_time  arrival_date_year  \\\n",
       "48515  City Hotel            1         35               2016   \n",
       "\n",
       "      arrival_date_month  arrival_date_week_number  arrival_date_day_of_month  \\\n",
       "48515              March                        13                         25   \n",
       "\n",
       "       stays_in_weekend_nights  stays_in_week_nights  adults  children  \\\n",
       "48515                        0                     1       2       0.0   \n",
       "\n",
       "       babies meal country market_segment distribution_channel  \\\n",
       "48515       0   BB     PRT  Offline TA/TO                TA/TO   \n",
       "\n",
       "       is_repeated_guest  previous_cancellations  \\\n",
       "48515                  0                       0   \n",
       "\n",
       "       previous_bookings_not_canceled reserved_room_type assigned_room_type  \\\n",
       "48515                               0                  A                  A   \n",
       "\n",
       "       booking_changes deposit_type  agent  company  days_in_waiting_list  \\\n",
       "48515                1   Non Refund   12.0      NaN                     0   \n",
       "\n",
       "      customer_type     adr  required_car_parking_spaces  \\\n",
       "48515     Transient  5400.0                            0   \n",
       "\n",
       "       total_of_special_requests reservation_status reservation_status_date  \n",
       "48515                          0           Canceled              2016-02-19  "
      ]
     },
     "execution_count": 339,
     "metadata": {},
     "output_type": "execute_result"
    }
   ],
   "source": [
    "df[df['adr'] > 5000]"
   ]
  },
  {
   "cell_type": "code",
   "execution_count": 340,
   "id": "02c47a58-830b-468b-b078-38d495785793",
   "metadata": {},
   "outputs": [],
   "source": [
    "df.drop(48515, inplace=True)"
   ]
  },
  {
   "cell_type": "code",
   "execution_count": 341,
   "id": "57bde1a1-825e-4008-9922-f5f1878d9be2",
   "metadata": {},
   "outputs": [
    {
     "data": {
      "image/png": "[encoded data removed]",
      "text/plain": [
       "<Figure size 500x200 with 2 Axes>"
      ]
     },
     "metadata": {},
     "output_type": "display_data"
    }
   ],
   "source": [
    "fig, ax = plt.subplots(1, 2, figsize=(5, 2), sharey=True)\n",
    "boxplot(df, 'adr', ax, 0)\n",
    "ax[1].set_axis_off()"
   ]
  },
  {
   "cell_type": "markdown",
   "id": "0f109114-ac5b-4cd2-86b9-d12d8f96cded",
   "metadata": {
    "tags": []
   },
   "source": [
    "## 5) More data cleaning & feature engineering"
   ]
  },
  {
   "cell_type": "markdown",
   "id": "b1321c52-d7b4-43f5-ad78-8823f9d5bed5",
   "metadata": {},
   "source": [
    "### Perform various adjustments and create new feature columns."
   ]
  },
  {
   "cell_type": "markdown",
   "id": "26b6dee5-1b25-457f-863f-ce7d0ffadfdd",
   "metadata": {},
   "source": [
    "- The variables indicating the arrival time and dates need to be changed to datetime type, and combined into one variable, called '_arrival_date_'. \n",
    "- Similarly, the _reservation_status_date_ needs to be changed to type datetime as well. \n",
    "- The '_hotel_' variable can be changed to numeric type, which makes it easier to use later on. \n",
    "- It is also assumed that records with a company are business customers, and records without a company are not. While this might be a simplicfication, and at times wrong, this prevents having to remove all records where a company was not give, which would reduce dataset size. \n",
    "- Similarly, it is assumed that records with an agent indicated use an agent, while records without an agent did not use one. As before, this is a simplificiation, but will prevent removal of records.\n",
    "- Country\n",
    "- Total stays\n",
    "- Checkout date"
   ]
  },
  {
   "cell_type": "code",
   "execution_count": 342,
   "id": "0bffd861-dd6a-4d08-aedb-dd107c4d3447",
   "metadata": {
    "tags": []
   },
   "outputs": [],
   "source": [
    "df['arrival_date_month'] = pd.to_datetime(df.arrival_date_month, format='%B').dt.month\n",
    "df['arrival_date'] = pd.to_datetime(df[['arrival_date_day_of_month',\n",
    "                                        'arrival_date_month', \n",
    "                                        'arrival_date_year']]\n",
    "                   .astype(str).apply(' '.join, 1), format='%d %m %Y')\n",
    "df.drop(['arrival_date_year', 'arrival_date_month', \n",
    "         'arrival_date_week_number', 'arrival_date_day_of_month'], inplace=True, axis=1)\n",
    "\n",
    "df['reservation_status_date'] = pd.to_datetime(df.reservation_status_date, format='%Y-%m-%d')\n",
    "\n",
    "df['hotel'] = np.where(df['hotel'] == 'Resort Hotel', 0, 1)\n",
    "\n",
    "df['business_customer'] = np.where(df['company'].notnull(), True, False)\n",
    "df.drop('company', inplace=True, axis=1)\n",
    "\n",
    "df['agent'] = np.where(df['agent'].notnull(), True, False)\n",
    "df.drop(df[df.adults <= 0].index, inplace=True)\n",
    "\n",
    "df['children'] = np.where(df['children'].astype('Int64').isnull(), 0, df['children']).astype('int64')\n",
    "\n",
    "df['country'] = np.where(df['country'].isnull(), \"UNKNOWN\", df['country'])\n",
    "\n",
    "df['total_stays'] = df['stays_in_week_nights'] + df['stays_in_weekend_nights']\n",
    "\n",
    "df['checkout_date'] = df['arrival_date'] + df['total_stays'].astype('timedelta64[D]')"
   ]
  },
  {
   "cell_type": "markdown",
   "id": "c2bd0d3c-36d8-4e92-ad8b-6098b0b3d3a7",
   "metadata": {},
   "source": [
    "### Add 'stay_is_public_holiday_' variable"
   ]
  },
  {
   "cell_type": "code",
   "execution_count": 343,
   "id": "7cfd4502-44d8-4f8a-abdf-6e57151e2955",
   "metadata": {},
   "outputs": [],
   "source": [
    "countries = pd.read_csv(\"iso_codes_countries.csv\", usecols=['name', 'alpha-2', 'alpha-3'])"
   ]
  },
  {
   "cell_type": "code",
   "execution_count": 344,
   "id": "f86e13d5-0d09-469b-af93-90c91a9c943e",
   "metadata": {},
   "outputs": [],
   "source": [
    "holidays = pd.read_csv(\"public-holidays.csv\", usecols=['date', 'countryRegionCode'])\n",
    "holidays['date'] = pd.to_datetime(holidays['date'], format='%Y-%m-%d')\n",
    "holidays.columns = ['alpha-2', 'date']\n",
    "holidays = holidays.merge(countries, on='alpha-2')\n",
    "holidays = holidays[['date', 'name', 'alpha-2', 'alpha-3']]"
   ]
  },
  {
   "cell_type": "code",
   "execution_count": 345,
   "id": "69fdafa6-cecf-4892-b3d9-50dd2a2872e7",
   "metadata": {
    "tags": []
   },
   "outputs": [],
   "source": [
    "df['date_range'] = df.apply(lambda x: pd.date_range(x['arrival_date'], x['checkout_date']).strftime('%Y-%m-%d').to_list(), axis=1)"
   ]
  },
  {
   "cell_type": "code",
   "execution_count": 346,
   "id": "29669384-f38d-4839-8e6e-589dfdb0621e",
   "metadata": {},
   "outputs": [],
   "source": [
    "country_holidays = dict()\n",
    "for country in holidays['alpha-3'].unique():\n",
    "    date_array = holidays[holidays['alpha-3'] == country]['date'].to_list()\n",
    "    date_list = [x.strftime('%Y-%m-%d') for x in date_array]\n",
    "    country_holidays[country] = date_list"
   ]
  },
  {
   "cell_type": "code",
   "execution_count": 347,
   "id": "a9e634c1-177e-4864-8d6c-7e71ff94bb2b",
   "metadata": {},
   "outputs": [],
   "source": [
    "def stay_is_public_holiday(date_range, country):   \n",
    "    try:\n",
    "        return True if any(np.isin(date_range, country_holidays[country])) else False\n",
    "    except:\n",
    "        return False"
   ]
  },
  {
   "cell_type": "code",
   "execution_count": 348,
   "id": "56987a78-db6e-451d-88f7-08b5610fbaa6",
   "metadata": {},
   "outputs": [],
   "source": [
    "df['stay_is_public_holiday'] = df.apply(lambda x: stay_is_public_holiday(x.date_range, x.country), axis=1)"
   ]
  },
  {
   "cell_type": "code",
   "execution_count": 349,
   "id": "7b52d684-ae05-45c6-b4b1-01864de63b3f",
   "metadata": {},
   "outputs": [
    {
     "data": {
      "text/plain": [
       "False    101904\n",
       "True      17081\n",
       "Name: stay_is_public_holiday, dtype: int64"
      ]
     },
     "execution_count": 349,
     "metadata": {},
     "output_type": "execute_result"
    }
   ],
   "source": [
    "df['stay_is_public_holiday'].value_counts()"
   ]
  },
  {
   "cell_type": "code",
   "execution_count": 351,
   "id": "d750e359-689c-4c69-9790-621351181f80",
   "metadata": {},
   "outputs": [],
   "source": [
    "df.drop('date_range', axis=1, inplace=True)"
   ]
  },
  {
   "cell_type": "code",
   "execution_count": null,
   "id": "8e7b596c-8fda-4bc4-bc76-74d5eb320b9a",
   "metadata": {},
   "outputs": [],
   "source": []
  },
  {
   "cell_type": "code",
   "execution_count": null,
   "id": "88a45279-803c-463b-a469-3467dd10e7cc",
   "metadata": {},
   "outputs": [],
   "source": []
  },
  {
   "cell_type": "code",
   "execution_count": null,
   "id": "08b5482b-bd66-428c-9874-2c39a45cde9d",
   "metadata": {},
   "outputs": [],
   "source": []
  },
  {
   "cell_type": "markdown",
   "id": "2f134e24-f02f-47d3-8671-afb025455495",
   "metadata": {},
   "source": [
    "## 6) Bivariate Analysis"
   ]
  },
  {
   "cell_type": "markdown",
   "id": "ffb76e6d-7fb3-4744-b669-20d616b6c87a",
   "metadata": {},
   "source": [
    "### Total bookings"
   ]
  },
  {
   "cell_type": "code",
   "execution_count": null,
   "id": "c037ec72-9dfc-4dcd-8971-0dbd479dd545",
   "metadata": {},
   "outputs": [],
   "source": [
    "booked_arrivals_per_month = df.arrival_date.dt.month.value_counts(sort=False).reset_index()\n",
    "booked_arrivals_per_month.columns = ['Month', '# of bookings']\n",
    "booked_arrivals_per_month.sort_values(by='Month', ascending=True, inplace=True)\n",
    "booked_arrivals_per_month['Month'] = booked_arrivals_per_month['Month'].apply(lambda x: calendar.month_abbr[x])"
   ]
  },
  {
   "cell_type": "code",
   "execution_count": null,
   "id": "69bfc967-492c-4118-988e-771a92a2c7c5",
   "metadata": {},
   "outputs": [],
   "source": [
    "fig, ax = plt.subplots(figsize=(5,3))\n",
    "sns.barplot(x='Month', y=\"# of bookings\", data=booked_arrivals_per_month)\n",
    "sns.despine(left=False, bottom=False)\n",
    "ax.get_yaxis().set_major_formatter(matplotlib.ticker.FuncFormatter(lambda x, p: format(int(x), ',')))\n",
    "ax.set_title(\"Number of bookings per month\")\n",
    "ax.grid()"
   ]
  },
  {
   "cell_type": "markdown",
   "id": "5a1e5e20-8b22-44bb-805b-9db0898acedb",
   "metadata": {},
   "source": [
    "### Number of total bookings per country"
   ]
  },
  {
   "cell_type": "code",
   "execution_count": null,
   "id": "06626a9a-f4fa-4d97-960a-4117097734d3",
   "metadata": {
    "tags": []
   },
   "outputs": [],
   "source": [
    "bookings_per_country = df['country'].value_counts().reset_index()\n",
    "bookings_per_country.columns = ['Country', '# of bookings']"
   ]
  },
  {
   "cell_type": "code",
   "execution_count": null,
   "id": "f5de228b-9768-4a9e-963d-9318a60a9920",
   "metadata": {
    "tags": []
   },
   "outputs": [],
   "source": [
    "fig, ax = plt.subplots(figsize=(10,4))\n",
    "sns.barplot(y='# of bookings', x=\"Country\", data=bookings_per_country[:15])\n",
    "sns.despine(left=False, bottom=False)\n",
    "ax.get_yaxis().set_major_formatter(matplotlib.ticker.FuncFormatter(lambda x, p: format(int(x), ',')))\n",
    "ax.set_title(\"Top 15 Booking Countries\")\n",
    "ax.grid()"
   ]
  },
  {
   "cell_type": "markdown",
   "id": "1bcb4dda-8c7f-454e-a314-09d2774d3154",
   "metadata": {},
   "source": [
    "### Cancellations"
   ]
  },
  {
   "cell_type": "code",
   "execution_count": null,
   "id": "07fb7f38-606c-4490-94fc-3534d7f152b4",
   "metadata": {
    "tags": []
   },
   "outputs": [],
   "source": [
    "cancellations_per_month = pd.DataFrame(df.groupby(df.arrival_date.dt.month)['is_canceled'].sum()).reset_index()\n",
    "cancellations_per_month.columns = [\"Month\", \"# of cancellations\"]\n",
    "cancellations_per_month['Month'] = cancellations_per_month['Month'].apply(lambda x: calendar.month_abbr[x])\n",
    "# cancellations_per_month.sort_values(by=['# of cancellations'], ascending=False, inplace=True)\n",
    "cancellations_per_month.reset_index(inplace=True, drop=True)"
   ]
  },
  {
   "cell_type": "code",
   "execution_count": null,
   "id": "8ece3183-927a-4b33-85a1-84000f604d75",
   "metadata": {
    "tags": []
   },
   "outputs": [],
   "source": [
    "fig, ax = plt.subplots(figsize=(5,3))\n",
    "sns.barplot(x='Month', y=\"# of cancellations\", data=cancellations_per_month)\n",
    "sns.despine(left=False, bottom=False)\n",
    "ax.get_yaxis().set_major_formatter(matplotlib.ticker.FuncFormatter(lambda x, p: format(int(x), ',')))\n",
    "ax.set_title(\"Number of cancellations per Month\")\n",
    "ax.grid()"
   ]
  },
  {
   "cell_type": "markdown",
   "id": "f2da7d5e-1121-4958-80f4-ef137e538e21",
   "metadata": {},
   "source": [
    "### Cancellations per country"
   ]
  },
  {
   "cell_type": "code",
   "execution_count": null,
   "id": "689972e2-48df-40ca-adbc-10b4b7c0de32",
   "metadata": {
    "tags": []
   },
   "outputs": [],
   "source": [
    "cancellations_per_country = pd.DataFrame(df.groupby(['country'])['is_canceled'].sum()).reset_index()\n",
    "cancellations_per_country.columns = ['Country', '# of cancellations']\n",
    "cancellations_per_country.sort_values(by=['# of cancellations'], ascending=False, inplace=True)"
   ]
  },
  {
   "cell_type": "code",
   "execution_count": null,
   "id": "2109f50b-b2d8-4fee-b4e9-765e627a17e0",
   "metadata": {
    "tags": []
   },
   "outputs": [],
   "source": [
    "fig, ax = plt.subplots(figsize=(10,4))\n",
    "sns.barplot(y='# of cancellations', x=\"Country\", data=cancellations_per_country[:15], log=True)\n",
    "sns.despine(left=False, bottom=False)\n",
    "ax.get_yaxis().set_major_formatter(matplotlib.ticker.FuncFormatter(lambda x, p: format(int(x), ',')))\n",
    "ax.set_title(\"Top 15 Cancellations per Country\")\n",
    "ax.grid()"
   ]
  },
  {
   "cell_type": "markdown",
   "id": "9722a1c0-fbfa-4191-b457-7790bc179fa9",
   "metadata": {},
   "source": [
    "__The majority of bookings came from Portugal itself, followed by other European countries, including Great Britain, France, Spain and Germany. Brasil is the only Non-European country in the top 10.__"
   ]
  },
  {
   "cell_type": "markdown",
   "id": "33910d39-0054-4b2e-befc-09a67a100d90",
   "metadata": {},
   "source": [
    "### Number of guests per country that consumed their stay"
   ]
  },
  {
   "cell_type": "code",
   "execution_count": null,
   "id": "425fe60f-2483-4146-928c-4a7f2076a977",
   "metadata": {
    "tags": []
   },
   "outputs": [],
   "source": [
    "guests_per_country = df[df['is_canceled'] == 0]['country'].value_counts().reset_index()\n",
    "guests_per_country.columns = ['Country', '# of guests']"
   ]
  },
  {
   "cell_type": "code",
   "execution_count": null,
   "id": "382c4bed-cf83-48fe-82fc-c512089ab72c",
   "metadata": {
    "tags": []
   },
   "outputs": [],
   "source": [
    "fig, ax = plt.subplots(figsize=(10,4))\n",
    "sns.barplot(y='# of guests', x=\"Country\", data=guests_per_country[:15], log=True)\n",
    "sns.despine(left=False, bottom=False)\n",
    "ax.get_yaxis().set_major_formatter(matplotlib.ticker.FuncFormatter(lambda x, p: format(int(x), ',')))\n",
    "ax.set_title(\"Top 15 Guest Countries\")\n",
    "ax.grid()"
   ]
  },
  {
   "cell_type": "code",
   "execution_count": null,
   "id": "aa363e77-052b-474c-a8c4-36d36c844b65",
   "metadata": {},
   "outputs": [],
   "source": []
  },
  {
   "cell_type": "code",
   "execution_count": null,
   "id": "abce0644-73cc-489b-870b-21e065d59c33",
   "metadata": {},
   "outputs": [],
   "source": []
  },
  {
   "cell_type": "code",
   "execution_count": null,
   "id": "7fe4df64-3f03-4355-b4fa-589cd16973a4",
   "metadata": {},
   "outputs": [],
   "source": []
  },
  {
   "cell_type": "code",
   "execution_count": null,
   "id": "40b274ac-6e94-4af0-a597-f8d33321277a",
   "metadata": {},
   "outputs": [],
   "source": []
  },
  {
   "cell_type": "code",
   "execution_count": null,
   "id": "10427af5-0d3b-4717-9575-cecde6a443d4",
   "metadata": {},
   "outputs": [],
   "source": []
  },
  {
   "cell_type": "code",
   "execution_count": null,
   "id": "f6295a76-9501-4a08-a6de-a2b725d7c85b",
   "metadata": {},
   "outputs": [],
   "source": []
  },
  {
   "cell_type": "code",
   "execution_count": null,
   "id": "43601cfa-bf63-49c1-b3ad-573c78e297c9",
   "metadata": {},
   "outputs": [],
   "source": []
  },
  {
   "cell_type": "markdown",
   "id": "f09dbe97-56ce-4a94-93e4-0bc11d9dc85d",
   "metadata": {},
   "source": []
  },
  {
   "cell_type": "markdown",
   "id": "0e31260f-6976-4dc4-a7ff-f76cf45f4ad1",
   "metadata": {},
   "source": []
  },
  {
   "cell_type": "code",
   "execution_count": null,
   "id": "184c9c14-3cb6-45c7-aa57-4cf619d61c39",
   "metadata": {},
   "outputs": [],
   "source": [
    "# months_only = df[['arrival_date', 'is_canceled']].copy()\n",
    "# months_only['month']  = months_only.arrival_date.dt.month"
   ]
  },
  {
   "cell_type": "code",
   "execution_count": null,
   "id": "78b2bf8f-95b3-430c-a7e5-d21ce4374183",
   "metadata": {},
   "outputs": [],
   "source": []
  },
  {
   "cell_type": "code",
   "execution_count": null,
   "id": "e5da01be-8b64-48e5-8e3d-6d6a89fa8edb",
   "metadata": {},
   "outputs": [],
   "source": [
    "# fig, ax = plt.subplots(1,3, figsize=(16, 4))\n",
    "# sns.countplot(ax=ax[0], data=months_only , x='month', palette=\"ch:.25\");\n",
    "# sns.countplot(ax=ax[1], data="
   ]
  },
  {
   "cell_type": "code",
   "execution_count": null,
   "id": "6c86b163-8e94-438b-9f8f-cd935e926fc9",
   "metadata": {},
   "outputs": [],
   "source": [
    "month vs adr\n"
   ]
  },
  {
   "cell_type": "code",
   "execution_count": null,
   "id": "df5d4478-6600-4b28-97d0-c47adf9778f1",
   "metadata": {},
   "outputs": [],
   "source": []
  },
  {
   "cell_type": "code",
   "execution_count": null,
   "id": "dd2d5f54-c271-49cc-8b9f-bea72a89596d",
   "metadata": {},
   "outputs": [],
   "source": []
  }
 ],
 "metadata": {
  "kernelspec": {
   "display_name": "Python 3 (ipykernel)",
   "language": "python",
   "name": "python3"
  },
  "language_info": {
   "codemirror_mode": {
    "name": "ipython",
    "version": 3
   },
   "file_extension": ".py",
   "mimetype": "text/x-python",
   "name": "python",
   "nbconvert_exporter": "python",
   "pygments_lexer": "ipython3",
   "version": "3.10.6"
  }
 },
 "nbformat": 4,
 "nbformat_minor": 5
}
